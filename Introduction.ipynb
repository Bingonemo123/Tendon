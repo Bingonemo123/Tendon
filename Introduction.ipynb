{
 "cells": [
  {
   "cell_type": "markdown",
   "metadata": {},
   "source": [
    "Quadratic function\n"
   ]
  },
  {
   "cell_type": "code",
   "execution_count": 1,
   "metadata": {},
   "outputs": [],
   "source": [
    "import tensorflow as tf\n",
    "import numpy as np"
   ]
  },
  {
   "cell_type": "code",
   "execution_count": 21,
   "metadata": {},
   "outputs": [],
   "source": [
    "class Rmodel (tf.keras.Model):\n",
    "    def __init__(self):\n",
    "        super(Rmodel, self).__init__()\n",
    "        init = tf.constant_initializer([1])\n",
    "        self.d1 = tf.keras.layers.Dense(1, activation='sigmoid', kernel_initializer=init)\n",
    "        self.d2 = tf.keras.layers.Dense(10, activation='relu')\n",
    "        self.d3 = tf.keras.layers.Dense(1)\n",
    "\n",
    "    def call(self, x):\n",
    "        x = self.d1(x)\n",
    "        x = self.d2(x)\n",
    "        return self.d3(x)\n",
    "model = Rmodel()"
   ]
  },
  {
   "cell_type": "code",
   "execution_count": 22,
   "metadata": {},
   "outputs": [],
   "source": [
    "loss_object = tf.keras.losses.MeanAbsoluteError()\n",
    "optimizer = tf.keras.optimizers.Adam()\n",
    "\n",
    "train_loss = tf.keras.metrics.Mean(name='train_loss')\n",
    "train_accuracy= tf.keras.metrics.MeanAbsoluteError(\n",
    "    name='mean_absolute_error', dtype=None\n",
    ")\n"
   ]
  },
  {
   "cell_type": "code",
   "execution_count": 33,
   "metadata": {},
   "outputs": [],
   "source": [
    "Scalar = tf.constant(5, shape=(1,1))"
   ]
  },
  {
   "cell_type": "code",
   "execution_count": 24,
   "metadata": {},
   "outputs": [
    {
     "data": {
      "text/plain": [
       "<tf.Tensor: shape=(1, 1), dtype=float32, numpy=array([[-0.02387172]], dtype=float32)>"
      ]
     },
     "execution_count": 24,
     "metadata": {},
     "output_type": "execute_result"
    }
   ],
   "source": [
    "model(Scalar)"
   ]
  },
  {
   "cell_type": "code",
   "execution_count": 27,
   "metadata": {},
   "outputs": [],
   "source": [
    "train_x = np.array([  tf.constant(x, shape=(1,1)) for x in range(100) ])\n",
    "train_y = tf.keras.activations.sigmoid(np.array([  tf.constant(x**(1/2), shape=(1,1)) for x in train_x ]))"
   ]
  },
  {
   "cell_type": "code",
   "execution_count": 29,
   "metadata": {},
   "outputs": [],
   "source": [
    "@tf.function\n",
    "def train_step(x, y):\n",
    "  with tf.GradientTape() as tape:\n",
    "    # training=True is only needed if there are layers with different\n",
    "    # behavior during training versus inference (e.g. Dropout).\n",
    "    predictions = model(x, training=True)\n",
    "    loss = loss_object(y, predictions)\n",
    "  gradients = tape.gradient(loss, model.trainable_variables)\n",
    "  optimizer.apply_gradients(zip(gradients, model.trainable_variables))\n",
    "\n",
    "  train_loss(loss)\n",
    "  train_accuracy(y, predictions)"
   ]
  },
  {
   "cell_type": "code",
   "execution_count": 31,
   "metadata": {},
   "outputs": [
    {
     "name": "stdout",
     "output_type": "stream",
     "text": [
      "Epoch 1, Loss: 0.014980719424784184, Accuracy: 1.4980719089508057\n",
      "Epoch 2, Loss: 0.012788157910108566, Accuracy: 1.278815746307373\n",
      "Epoch 3, Loss: 0.015666885301470757, Accuracy: 1.5666885375976562\n",
      "Epoch 4, Loss: 0.013305295258760452, Accuracy: 1.3305295705795288\n",
      "Epoch 5, Loss: 0.013088064268231392, Accuracy: 1.3088064193725586\n",
      "Epoch 6, Loss: 0.013147401623427868, Accuracy: 1.3147401809692383\n",
      "Epoch 7, Loss: 0.011733165942132473, Accuracy: 1.1733165979385376\n",
      "Epoch 8, Loss: 0.011786187067627907, Accuracy: 1.1786186695098877\n",
      "Epoch 9, Loss: 0.012835375964641571, Accuracy: 1.2835376262664795\n",
      "Epoch 10, Loss: 0.009509969502687454, Accuracy: 0.9509969353675842\n",
      "Epoch 11, Loss: 0.010335080325603485, Accuracy: 1.033508062362671\n",
      "Epoch 12, Loss: 0.009282952174544334, Accuracy: 0.9282951951026917\n",
      "Epoch 13, Loss: 0.009759210981428623, Accuracy: 0.975921094417572\n",
      "Epoch 14, Loss: 0.009596934542059898, Accuracy: 0.959693431854248\n",
      "Epoch 15, Loss: 0.0067127118818461895, Accuracy: 0.6712712049484253\n",
      "Epoch 16, Loss: 0.009054221212863922, Accuracy: 0.9054220914840698\n",
      "Epoch 17, Loss: 0.00702288094907999, Accuracy: 0.7022880911827087\n",
      "Epoch 18, Loss: 0.008086920715868473, Accuracy: 0.8086920976638794\n",
      "Epoch 19, Loss: 0.007170034106820822, Accuracy: 0.7170034050941467\n",
      "Epoch 20, Loss: 0.008927182294428349, Accuracy: 0.8927182555198669\n"
     ]
    }
   ],
   "source": [
    "EPOCHS = 20\n",
    "\n",
    "for epoch in range(EPOCHS):\n",
    "  # Reset the metrics at the start of the next epoch\n",
    "  train_loss.reset_states()\n",
    "  train_accuracy.reset_states()\n",
    "  \n",
    "\n",
    "  for x, y in zip(train_x, train_y):\n",
    "    train_step(x, y)\n",
    "\n",
    "\n",
    "  print(\n",
    "    f'Epoch {epoch + 1}, '\n",
    "    f'Loss: {train_loss.result()}, '\n",
    "    f'Accuracy: {train_accuracy.result() * 100}'\n",
    "    )"
   ]
  },
  {
   "cell_type": "code",
   "execution_count": 34,
   "metadata": {},
   "outputs": [
    {
     "data": {
      "text/plain": [
       "<tf.Tensor: shape=(1, 1), dtype=float32, numpy=array([[0.92104346]], dtype=float32)>"
      ]
     },
     "execution_count": 34,
     "metadata": {},
     "output_type": "execute_result"
    }
   ],
   "source": [
    "model(Scalar)"
   ]
  }
 ],
 "metadata": {
  "interpreter": {
   "hash": "c569cd2e17f62341e0f08a54f9a867c3c0d3a6f67454072d7de41a8b5dff8343"
  },
  "kernelspec": {
   "display_name": "Python 3.9.7 64-bit",
   "language": "python",
   "name": "python3"
  },
  "language_info": {
   "codemirror_mode": {
    "name": "ipython",
    "version": 3
   },
   "file_extension": ".py",
   "mimetype": "text/x-python",
   "name": "python",
   "nbconvert_exporter": "python",
   "pygments_lexer": "ipython3",
   "version": "3.9.7"
  },
  "orig_nbformat": 4
 },
 "nbformat": 4,
 "nbformat_minor": 2
}
